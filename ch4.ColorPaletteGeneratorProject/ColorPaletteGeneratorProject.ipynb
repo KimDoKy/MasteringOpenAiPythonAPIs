{
 "cells": [
  {
   "cell_type": "code",
   "execution_count": 85,
   "id": "551b27b8",
   "metadata": {},
   "outputs": [],
   "source": [
    "import openai"
   ]
  },
  {
   "cell_type": "code",
   "execution_count": 49,
   "id": "105ddf80",
   "metadata": {},
   "outputs": [],
   "source": [
    "import json"
   ]
  },
  {
   "cell_type": "code",
   "execution_count": 2,
   "id": "596d3829",
   "metadata": {},
   "outputs": [],
   "source": [
    "from dotenv import dotenv_values"
   ]
  },
  {
   "cell_type": "code",
   "execution_count": 86,
   "id": "4a592669",
   "metadata": {},
   "outputs": [],
   "source": [
    "config = dotenv_values(\"../../../.env\")"
   ]
  },
  {
   "cell_type": "code",
   "execution_count": 90,
   "id": "5ba508c1",
   "metadata": {
    "scrolled": true
   },
   "outputs": [],
   "source": [
    "openai.api_key = config['openai']"
   ]
  },
  {
   "cell_type": "code",
   "execution_count": 91,
   "id": "b50f3f01",
   "metadata": {},
   "outputs": [],
   "source": [
    "from IPython.display import Markdown, display\n",
    "\n",
    "def display_colors(colors):\n",
    "    display(Markdown(\" \".join(\n",
    "        f'<span style=\"color: {color}\">{chr(9608) * 4}</span>'\n",
    "        for color in colors\n",
    "    )))"
   ]
  },
  {
   "cell_type": "code",
   "execution_count": 92,
   "id": "fd9e8b47",
   "metadata": {},
   "outputs": [],
   "source": [
    "def get_and_render_colors(msg):\n",
    "    prompt = f\"\"\"\n",
    "    You are a color palette generating assistant that responds to text prompts for color palette\n",
    "    Your should generate color palettes that fit the theme, mood, or instructions in the prompt.\n",
    "    The palettes should be between 2 and 8 colors.\n",
    "\n",
    "    Q: Convert the following verbal description or a color palette into a list of colors: The Mediterranean Sea\n",
    "    A: ['#96b9ad', '#38465e', '#ebf2fa', '#fbd2ae', '#642029', '#ece8d2', '#4c4a4e']\n",
    "\n",
    "    Q: Convert the following verbal description or a color palette into a list of colors: sage, nature, earth\n",
    "    A: ['#767562','#98FF98','#7F4B4B','#F4FFA8','#BEACAE','#ADF9DE\",'#FFDEAF']\n",
    "\n",
    "    Desired Format: a JSON array of hexadecimal color codes\n",
    "    \n",
    "    Q: Convert the following verbal description or a color palette into a list of colors: {msg}\n",
    "    A:\n",
    "    \"\"\"\n",
    "\n",
    "    res = openai.Completion.create(\n",
    "        prompt=prompt,\n",
    "        model=\"text-davinci-003\",\n",
    "        max_tokens=100\n",
    "    )\n",
    "    colors = json.loads(res[\"choices\"][0][\"text\"])\n",
    "    display_colors(colors)"
   ]
  },
  {
   "cell_type": "code",
   "execution_count": 76,
   "id": "f35077a4",
   "metadata": {},
   "outputs": [
    {
     "name": "stdout",
     "output_type": "stream",
     "text": [
      "{\n",
      "  \"choices\": [\n",
      "    {\n",
      "      \"finish_reason\": \"stop\",\n",
      "      \"index\": 0,\n",
      "      \"logprobs\": null,\n",
      "      \"text\": \"\\n    [\\\"#4285F4\\\",\\\"#DB4437\\\",\\\"#F4B400\\\",\\\"#0F9D58\\\"]\"\n",
      "    }\n",
      "  ],\n",
      "  \"created\": 1682177156,\n",
      "  \"id\": \"cmpl-789PYpkwF2sYy9sTaWecdnMcSOsZb\",\n",
      "  \"model\": \"text-davinci-003\",\n",
      "  \"object\": \"text_completion\",\n",
      "  \"usage\": {\n",
      "    \"completion_tokens\": 27,\n",
      "    \"prompt_tokens\": 245,\n",
      "    \"total_tokens\": 272\n",
      "  }\n",
      "}\n"
     ]
    },
    {
     "data": {
      "text/markdown": [
       "<span style=\"color: #4285F4\">████</span> <span style=\"color: #DB4437\">████</span> <span style=\"color: #F4B400\">████</span> <span style=\"color: #0F9D58\">████</span>"
      ],
      "text/plain": [
       "<IPython.core.display.Markdown object>"
      ]
     },
     "metadata": {},
     "output_type": "display_data"
    }
   ],
   "source": [
    "get_and_render_colors(\"4 Google brand colors\")"
   ]
  },
  {
   "cell_type": "code",
   "execution_count": 93,
   "id": "116ab934",
   "metadata": {},
   "outputs": [
    {
     "data": {
      "text/markdown": [
       "<span style=\"color: #FFBE0B\">████</span> <span style=\"color: #FF7C00\">████</span> <span style=\"color: #FF7A57\">████</span> <span style=\"color: #2E5266\">████</span> <span style=\"color: #367459\">████</span> <span style=\"color: #A7D45A\">████</span> <span style=\"color: #F3D71A\">████</span> <span style=\"color: #580077\">████</span>"
      ],
      "text/plain": [
       "<IPython.core.display.Markdown object>"
      ]
     },
     "metadata": {},
     "output_type": "display_data"
    }
   ],
   "source": [
    "get_and_render_colors(\"Thanksgiving color palette\")"
   ]
  },
  {
   "cell_type": "code",
   "execution_count": null,
   "id": "dc786db9",
   "metadata": {},
   "outputs": [],
   "source": []
  },
  {
   "cell_type": "code",
   "execution_count": null,
   "id": "196b5e54",
   "metadata": {},
   "outputs": [],
   "source": []
  }
 ],
 "metadata": {
  "kernelspec": {
   "display_name": "Python 3 (ipykernel)",
   "language": "python",
   "name": "python3"
  },
  "language_info": {
   "codemirror_mode": {
    "name": "ipython",
    "version": 3
   },
   "file_extension": ".py",
   "mimetype": "text/x-python",
   "name": "python",
   "nbconvert_exporter": "python",
   "pygments_lexer": "ipython3",
   "version": "3.11.3"
  }
 },
 "nbformat": 4,
 "nbformat_minor": 5
}
