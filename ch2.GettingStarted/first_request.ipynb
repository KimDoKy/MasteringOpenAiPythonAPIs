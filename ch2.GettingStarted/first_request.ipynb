{
 "cells": [
  {
   "cell_type": "code",
   "execution_count": 5,
   "id": "551b27b8",
   "metadata": {},
   "outputs": [],
   "source": [
    "import openai"
   ]
  },
  {
   "cell_type": "code",
   "execution_count": 6,
   "id": "596d3829",
   "metadata": {},
   "outputs": [],
   "source": [
    "from dotenv import dotenv_values"
   ]
  },
  {
   "cell_type": "code",
   "execution_count": 9,
   "id": "4a592669",
   "metadata": {},
   "outputs": [],
   "source": [
    "config = dotenv_values(\"../../.env\")"
   ]
  },
  {
   "cell_type": "code",
   "execution_count": 39,
   "id": "5ba508c1",
   "metadata": {
    "scrolled": true
   },
   "outputs": [],
   "source": [
    "openai.api_key = config['openai']"
   ]
  },
  {
   "cell_type": "code",
   "execution_count": 9,
   "id": "c4627864",
   "metadata": {},
   "outputs": [
    {
     "data": {
      "text/plain": [
       "<OpenAIObject text_completion id=cmpl-77eqkll5S11s55vybnj3I5cK1gCm1 at 0x108aa4cb0> JSON: {\n",
       "  \"choices\": [\n",
       "    {\n",
       "      \"finish_reason\": \"stop\",\n",
       "      \"index\": 0,\n",
       "      \"logprobs\": null,\n",
       "      \"text\": \" woof!\"\n",
       "    }\n",
       "  ],\n",
       "  \"created\": 1682059678,\n",
       "  \"id\": \"cmpl-77eqkll5S11s55vybnj3I5cK1gCm1\",\n",
       "  \"model\": \"text-davinci-003\",\n",
       "  \"object\": \"text_completion\",\n",
       "  \"usage\": {\n",
       "    \"completion_tokens\": 3,\n",
       "    \"prompt_tokens\": 4,\n",
       "    \"total_tokens\": 7\n",
       "  }\n",
       "}"
      ]
     },
     "execution_count": 9,
     "metadata": {},
     "output_type": "execute_result"
    }
   ],
   "source": [
    "openai.Completion.create(\n",
    "    model=\"text-davinci-003\",\n",
    "    prompt=\"The dog says \"\n",
    ")"
   ]
  },
  {
   "cell_type": "code",
   "execution_count": 10,
   "id": "c5840156",
   "metadata": {},
   "outputs": [
    {
     "data": {
      "text/plain": [
       "<OpenAIObject text_completion id=cmpl-77erkeNZWd6xzbHstzUtHt7jkInWO at 0x107b34cb0> JSON: {\n",
       "  \"choices\": [\n",
       "    {\n",
       "      \"finish_reason\": \"stop\",\n",
       "      \"index\": 0,\n",
       "      \"logprobs\": null,\n",
       "      \"text\": \" \\\\\\\"Meow!\\\\\\\"\"\n",
       "    }\n",
       "  ],\n",
       "  \"created\": 1682059740,\n",
       "  \"id\": \"cmpl-77erkeNZWd6xzbHstzUtHt7jkInWO\",\n",
       "  \"model\": \"text-davinci-003\",\n",
       "  \"object\": \"text_completion\",\n",
       "  \"usage\": {\n",
       "    \"completion_tokens\": 5,\n",
       "    \"prompt_tokens\": 4,\n",
       "    \"total_tokens\": 9\n",
       "  }\n",
       "}"
      ]
     },
     "execution_count": 10,
     "metadata": {},
     "output_type": "execute_result"
    }
   ],
   "source": [
    "openai.Completion.create(\n",
    "    model=\"text-davinci-003\",\n",
    "    prompt=\"The cat says \"\n",
    ")"
   ]
  },
  {
   "cell_type": "code",
   "execution_count": 11,
   "id": "25064457",
   "metadata": {},
   "outputs": [
    {
     "data": {
      "text/plain": [
       "<OpenAIObject text_completion id=cmpl-77esJDMOuol0B6nBRg1kXzQ4PjLR9 at 0x108aa50d0> JSON: {\n",
       "  \"choices\": [\n",
       "    {\n",
       "      \"finish_reason\": \"stop\",\n",
       "      \"index\": 0,\n",
       "      \"logprobs\": null,\n",
       "      \"text\": \"\\n\\\"The quick brown fox jumps over the lazy dog.\\\"\"\n",
       "    }\n",
       "  ],\n",
       "  \"created\": 1682059775,\n",
       "  \"id\": \"cmpl-77esJDMOuol0B6nBRg1kXzQ4PjLR9\",\n",
       "  \"model\": \"text-davinci-003\",\n",
       "  \"object\": \"text_completion\",\n",
       "  \"usage\": {\n",
       "    \"completion_tokens\": 12,\n",
       "    \"prompt_tokens\": 4,\n",
       "    \"total_tokens\": 16\n",
       "  }\n",
       "}"
      ]
     },
     "execution_count": 11,
     "metadata": {},
     "output_type": "execute_result"
    }
   ],
   "source": [
    "openai.Completion.create(\n",
    "    model=\"text-davinci-003\",\n",
    "    prompt=\"The fox says \"\n",
    ")"
   ]
  },
  {
   "cell_type": "code",
   "execution_count": 32,
   "id": "220ec762",
   "metadata": {},
   "outputs": [
    {
     "data": {
      "text/plain": [
       "<OpenAIObject text_completion id=cmpl-77faBdsHSdfAtQ8ZY5o2fY3zGKx6h at 0x108da6e10> JSON: {\n",
       "  \"choices\": [\n",
       "    {\n",
       "      \"finish_reason\": \"stop\",\n",
       "      \"index\": 0,\n",
       "      \"logprobs\": null,\n",
       "      \"text\": \"\\n\\nKonnichiwa.\"\n",
       "    }\n",
       "  ],\n",
       "  \"created\": 1682062495,\n",
       "  \"id\": \"cmpl-77faBdsHSdfAtQ8ZY5o2fY3zGKx6h\",\n",
       "  \"model\": \"text-davinci-003\",\n",
       "  \"object\": \"text_completion\",\n",
       "  \"usage\": {\n",
       "    \"completion_tokens\": 8,\n",
       "    \"prompt_tokens\": 9,\n",
       "    \"total_tokens\": 17\n",
       "  }\n",
       "}"
      ]
     },
     "execution_count": 32,
     "metadata": {},
     "output_type": "execute_result"
    }
   ],
   "source": [
    "openai.Completion.create(\n",
    "    model=\"text-davinci-003\",\n",
    "    prompt=\"How do you say hello in japan?\"\n",
    ")"
   ]
  },
  {
   "cell_type": "markdown",
   "id": "081e793d",
   "metadata": {},
   "source": [
    "---\n",
    "### [Tokenizer](https://platform.openai.com/tokenizer)\n",
    "- GPT doesn't work with words, but instread uses a systgem of tokens.\n",
    "- Tokens are essentially pieces of words (though some tokens are full words)\n",
    "- A token on average is ~4 characters of English text."
   ]
  },
  {
   "cell_type": "markdown",
   "id": "63d3d994",
   "metadata": {},
   "source": [
    "### Pricing\n",
    "- OpenAI charges based on tokens\n",
    "- It adds together the tokens in your prompt plus the tokens in the output it returns\n",
    "- Different models are priced differently"
   ]
  },
  {
   "cell_type": "code",
   "execution_count": 11,
   "id": "e0222ef6",
   "metadata": {},
   "outputs": [
    {
     "data": {
      "text/plain": [
       "<OpenAIObject text_completion id=cmpl-77lFzqf8nMRJnbycJJWRqEqQI0Lka at 0x109385490> JSON: {\n",
       "  \"choices\": [\n",
       "    {\n",
       "      \"finish_reason\": \"length\",\n",
       "      \"index\": 0,\n",
       "      \"logprobs\": null,\n",
       "      \"text\": \"\\n\\n1. Tokyo, Japan\\n2. Mexico City, Mexico\\n3\"\n",
       "    }\n",
       "  ],\n",
       "  \"created\": 1682084307,\n",
       "  \"id\": \"cmpl-77lFzqf8nMRJnbycJJWRqEqQI0Lka\",\n",
       "  \"model\": \"text-davinci-003\",\n",
       "  \"object\": \"text_completion\",\n",
       "  \"usage\": {\n",
       "    \"completion_tokens\": 16,\n",
       "    \"prompt_tokens\": 9,\n",
       "    \"total_tokens\": 25\n",
       "  }\n",
       "}"
      ]
     },
     "execution_count": 11,
     "metadata": {},
     "output_type": "execute_result"
    }
   ],
   "source": [
    "openai.Completion.create(\n",
    "    model=\"text-davinci-003\",\n",
    "    prompt=\"The top 10 most populated cities are: \"\n",
    ")"
   ]
  },
  {
   "cell_type": "markdown",
   "id": "c941d9dd",
   "metadata": {},
   "source": [
    "max_token을 사용하여 응답에 사용되는 토큰을 조절할 수 있다.  \n",
    "미지정시 기본값은 16이다.  \n",
    "https://platform.openai.com/docs/api-reference/completions/create#completions/create-max_tokens"
   ]
  },
  {
   "cell_type": "code",
   "execution_count": 12,
   "id": "8e371415",
   "metadata": {},
   "outputs": [
    {
     "data": {
      "text/plain": [
       "<OpenAIObject text_completion id=cmpl-77lIvq3yiQOPhw7LHBWuH2bEoCGQj at 0x10932a5d0> JSON: {\n",
       "  \"choices\": [\n",
       "    {\n",
       "      \"finish_reason\": \"stop\",\n",
       "      \"index\": 0,\n",
       "      \"logprobs\": null,\n",
       "      \"text\": \"\\n\\n1. Tokyo, Japan \\n2. Delhi, India \\n3. Shanghai, China \\n4. Sao Paulo, Brazil \\n5. Mexico City, Mexico \\n6. Cairo, Egypt \\n7. Dhaka, Bangladesh \\n8. Mumbai, India \\n9. Beijing, China \\n10. Osaka, Japan\"\n",
       "    }\n",
       "  ],\n",
       "  \"created\": 1682084489,\n",
       "  \"id\": \"cmpl-77lIvq3yiQOPhw7LHBWuH2bEoCGQj\",\n",
       "  \"model\": \"text-davinci-003\",\n",
       "  \"object\": \"text_completion\",\n",
       "  \"usage\": {\n",
       "    \"completion_tokens\": 73,\n",
       "    \"prompt_tokens\": 9,\n",
       "    \"total_tokens\": 82\n",
       "  }\n",
       "}"
      ]
     },
     "execution_count": 12,
     "metadata": {},
     "output_type": "execute_result"
    }
   ],
   "source": [
    "openai.Completion.create(\n",
    "    model=\"text-davinci-003\",\n",
    "    prompt=\"The top 10 most populated cities are: \",\n",
    "    max_tokens=100\n",
    ")"
   ]
  },
  {
   "cell_type": "markdown",
   "id": "d34c9878",
   "metadata": {},
   "source": [
    "#### stop sequence"
   ]
  },
  {
   "cell_type": "code",
   "execution_count": 27,
   "id": "94de165a",
   "metadata": {},
   "outputs": [],
   "source": [
    "response = openai.Completion.create(\n",
    "    prompt=\"Generate a list of the best movies of all time \",\n",
    "    model=\"text-davinci-003\",\n",
    "    max_tokens=200\n",
    ")"
   ]
  },
  {
   "cell_type": "code",
   "execution_count": 28,
   "id": "2bed9b2b",
   "metadata": {},
   "outputs": [
    {
     "name": "stdout",
     "output_type": "stream",
     "text": [
      "\n",
      "\n",
      "1. The Godfather \n",
      "2. The Shawshank Redemption \n",
      "3. Schindler's List \n",
      "4. Pulp Fiction \n",
      "5. The Dark Knight \n",
      "6. Casablanca \n",
      "7. The Lord of the Rings \n",
      "8. Star Wars \n",
      "9. Forrest Gump \n",
      "10. Goodfellas\n"
     ]
    }
   ],
   "source": [
    "print(response[\"choices\"][0]['text'])"
   ]
  },
  {
   "cell_type": "code",
   "execution_count": 29,
   "id": "f3977ce9",
   "metadata": {},
   "outputs": [
    {
     "data": {
      "text/plain": [
       "<OpenAIObject text_completion id=cmpl-77lY64HN1ERTcVG1086GE6p39agC5 at 0x109384950> JSON: {\n",
       "  \"choices\": [\n",
       "    {\n",
       "      \"finish_reason\": \"stop\",\n",
       "      \"index\": 0,\n",
       "      \"logprobs\": null,\n",
       "      \"text\": \"\\n\\n1. The Godfather \\n2. The Shawshank Redemption \\n3. Schindler's List \\n4. Pulp Fiction \\n5. The Dark Knight \\n6. Casablanca \\n7. The Lord of the Rings \\n8. Star Wars \\n9. Forrest Gump \\n10. Goodfellas\"\n",
       "    }\n",
       "  ],\n",
       "  \"created\": 1682085430,\n",
       "  \"id\": \"cmpl-77lY64HN1ERTcVG1086GE6p39agC5\",\n",
       "  \"model\": \"text-davinci-003\",\n",
       "  \"object\": \"text_completion\",\n",
       "  \"usage\": {\n",
       "    \"completion_tokens\": 75,\n",
       "    \"prompt_tokens\": 12,\n",
       "    \"total_tokens\": 87\n",
       "  }\n",
       "}"
      ]
     },
     "execution_count": 29,
     "metadata": {},
     "output_type": "execute_result"
    }
   ],
   "source": [
    "response"
   ]
  },
  {
   "cell_type": "code",
   "execution_count": 30,
   "id": "19a552ef",
   "metadata": {},
   "outputs": [],
   "source": [
    "response = openai.Completion.create(\n",
    "    prompt=\"Generate a list of the best movies of all time \",\n",
    "    model=\"text-davinci-003\",\n",
    "    max_tokens=200,\n",
    "    stop=\"5.\"\n",
    ")"
   ]
  },
  {
   "cell_type": "code",
   "execution_count": 31,
   "id": "d3356530",
   "metadata": {},
   "outputs": [
    {
     "name": "stdout",
     "output_type": "stream",
     "text": [
      "\n",
      "\n",
      "1. The Godfather \n",
      "2. Citizen Kane \n",
      "3. The Shawshank Redemption \n",
      "4. Casablanca \n",
      "\n"
     ]
    }
   ],
   "source": [
    "print(response[\"choices\"][0]['text'])"
   ]
  },
  {
   "cell_type": "code",
   "execution_count": 32,
   "id": "403aaa90",
   "metadata": {},
   "outputs": [],
   "source": [
    "prompt = \"\"\"\n",
    "You are a chatbot that speaks like a toddler.\n",
    "User: Hi, how are you?\n",
    "Chatbot: I'm good\n",
    "User: Tell me about your family\n",
    "Chatbot: I have a mommy and a daddy and a baby sister and two kitties\n",
    "User: What do you do for fun?\n",
    "Chatbot: \n",
    "\"\"\""
   ]
  },
  {
   "cell_type": "code",
   "execution_count": 36,
   "id": "b195084e",
   "metadata": {},
   "outputs": [],
   "source": [
    "response = openai.Completion.create(\n",
    "    prompt=prompt,\n",
    "    model=\"text-davinci-003\",\n",
    "    max_tokens=200,\n",
    "    stop=[\"Chatbot:\", \"User:\"]\n",
    ")"
   ]
  },
  {
   "cell_type": "code",
   "execution_count": 37,
   "id": "1a8dea7e",
   "metadata": {},
   "outputs": [
    {
     "data": {
      "text/plain": [
       "<OpenAIObject text_completion id=cmpl-77ljbacJb3GuR2jKtVLATfe4hFHId at 0x109ec7d70> JSON: {\n",
       "  \"choices\": [\n",
       "    {\n",
       "      \"finish_reason\": \"stop\",\n",
       "      \"index\": 0,\n",
       "      \"logprobs\": null,\n",
       "      \"text\": \"I like to play with my baby sister and my kitties, paint, color, play pretend and go to the park.\"\n",
       "    }\n",
       "  ],\n",
       "  \"created\": 1682086143,\n",
       "  \"id\": \"cmpl-77ljbacJb3GuR2jKtVLATfe4hFHId\",\n",
       "  \"model\": \"text-davinci-003\",\n",
       "  \"object\": \"text_completion\",\n",
       "  \"usage\": {\n",
       "    \"completion_tokens\": 26,\n",
       "    \"prompt_tokens\": 73,\n",
       "    \"total_tokens\": 99\n",
       "  }\n",
       "}"
      ]
     },
     "execution_count": 37,
     "metadata": {},
     "output_type": "execute_result"
    }
   ],
   "source": [
    "response"
   ]
  },
  {
   "cell_type": "markdown",
   "id": "9c741367",
   "metadata": {},
   "source": [
    "#### N and Echo"
   ]
  },
  {
   "cell_type": "code",
   "execution_count": 40,
   "id": "8f94a517",
   "metadata": {},
   "outputs": [],
   "source": [
    "# prompt에서 3개로 지정하면 하나의 응답결과로 준다.\n",
    "## 각 대답을 분할하려면 사용자가 직접 코드를 작성해야 한다.\n",
    "# n을 지정하면 같은 결과이지만\n",
    "## choices의 리스트로 응답하여 사용자가 직접 분리할 필요가 없다.\n",
    "## max_tokens은 n당 적용이됨\n",
    "## max_tokens가 100이고 n이 3이면 300까지 사용할 수 있다.\n",
    "res = openai.Completion.create(\n",
    "    model=\"text-davinci-003\",\n",
    "#     prompt=\"tell me 3 joke about death\",\n",
    "    prompt=\"tell me a joke about death\",\n",
    "    max_tokens=100,\n",
    "    n=3\n",
    ")"
   ]
  },
  {
   "cell_type": "code",
   "execution_count": 41,
   "id": "1789ea90",
   "metadata": {},
   "outputs": [
    {
     "data": {
      "text/plain": [
       "<OpenAIObject text_completion id=cmpl-77v2iLcSYCvDFVJMcV8YWuQmB5fzU at 0x10ad3cb90> JSON: {\n",
       "  \"choices\": [\n",
       "    {\n",
       "      \"finish_reason\": \"stop\",\n",
       "      \"index\": 0,\n",
       "      \"logprobs\": null,\n",
       "      \"text\": \"\\n\\nQ: Why did the ghost go to the bar? \\nA: For the Happy Hemorage!\"\n",
       "    },\n",
       "    {\n",
       "      \"finish_reason\": \"stop\",\n",
       "      \"index\": 1,\n",
       "      \"logprobs\": null,\n",
       "      \"text\": \"\\n\\nQ:Why did the zombie go to the shrink? \\nA: He was feeling down in the coffin.\"\n",
       "    },\n",
       "    {\n",
       "      \"finish_reason\": \"stop\",\n",
       "      \"index\": 2,\n",
       "      \"logprobs\": null,\n",
       "      \"text\": \"\\n\\nQ: Why did the skeleton go to the party alone?\\nA: He had no body to go with.\"\n",
       "    }\n",
       "  ],\n",
       "  \"created\": 1682121924,\n",
       "  \"id\": \"cmpl-77v2iLcSYCvDFVJMcV8YWuQmB5fzU\",\n",
       "  \"model\": \"text-davinci-003\",\n",
       "  \"object\": \"text_completion\",\n",
       "  \"usage\": {\n",
       "    \"completion_tokens\": 73,\n",
       "    \"prompt_tokens\": 6,\n",
       "    \"total_tokens\": 79\n",
       "  }\n",
       "}"
      ]
     },
     "execution_count": 41,
     "metadata": {},
     "output_type": "execute_result"
    }
   ],
   "source": [
    "res"
   ]
  },
  {
   "cell_type": "code",
   "execution_count": 42,
   "id": "4e3b8aae",
   "metadata": {},
   "outputs": [],
   "source": [
    "# Echo\n",
    "## prompt가 포함된 응답을 한다.\n",
    "## echo는 추가로 token이 사용되지 않는다.\n",
    "res = openai.Completion.create(\n",
    "    model=\"text-davinci-003\",\n",
    "    prompt=\"Q: What is the tallest building in the world?\",\n",
    "    max_tokens=100\n",
    ")"
   ]
  },
  {
   "cell_type": "code",
   "execution_count": 43,
   "id": "8258024a",
   "metadata": {},
   "outputs": [
    {
     "data": {
      "text/plain": [
       "<OpenAIObject text_completion id=cmpl-77zaEmcHktX5uJTkL9bYYOgyN6ohk at 0x108e48950> JSON: {\n",
       "  \"choices\": [\n",
       "    {\n",
       "      \"finish_reason\": \"stop\",\n",
       "      \"index\": 0,\n",
       "      \"logprobs\": null,\n",
       "      \"text\": \"\\n\\nA: The tallest building in the world is the Burj Khalifa in Dubai, United Arab Emirates. It stands at 828 meters (2,717 feet) tall.\"\n",
       "    }\n",
       "  ],\n",
       "  \"created\": 1682139378,\n",
       "  \"id\": \"cmpl-77zaEmcHktX5uJTkL9bYYOgyN6ohk\",\n",
       "  \"model\": \"text-davinci-003\",\n",
       "  \"object\": \"text_completion\",\n",
       "  \"usage\": {\n",
       "    \"completion_tokens\": 38,\n",
       "    \"prompt_tokens\": 11,\n",
       "    \"total_tokens\": 49\n",
       "  }\n",
       "}"
      ]
     },
     "execution_count": 43,
     "metadata": {},
     "output_type": "execute_result"
    }
   ],
   "source": [
    "res"
   ]
  },
  {
   "cell_type": "code",
   "execution_count": 44,
   "id": "4d43f971",
   "metadata": {},
   "outputs": [],
   "source": [
    "res = openai.Completion.create(\n",
    "    model=\"text-davinci-003\",\n",
    "    prompt=\"Q: What is the tallest building in the world?\",\n",
    "    max_tokens=100,\n",
    "    echo=True\n",
    ")"
   ]
  },
  {
   "cell_type": "code",
   "execution_count": 45,
   "id": "43ed21a4",
   "metadata": {},
   "outputs": [
    {
     "data": {
      "text/plain": [
       "<OpenAIObject text_completion id=cmpl-77zajLfIRnchn9qywbVuIk6I7kWtH at 0x10ad3cdd0> JSON: {\n",
       "  \"choices\": [\n",
       "    {\n",
       "      \"finish_reason\": \"stop\",\n",
       "      \"index\": 0,\n",
       "      \"logprobs\": null,\n",
       "      \"text\": \"Q: What is the tallest building in the world?\\n\\nA: The tallest building in the world is Burj Khalifa in Dubai, United Arab Emirates. It stands at an astounding 828 meters (2,717 feet) tall.\"\n",
       "    }\n",
       "  ],\n",
       "  \"created\": 1682139409,\n",
       "  \"id\": \"cmpl-77zajLfIRnchn9qywbVuIk6I7kWtH\",\n",
       "  \"model\": \"text-davinci-003\",\n",
       "  \"object\": \"text_completion\",\n",
       "  \"usage\": {\n",
       "    \"completion_tokens\": 39,\n",
       "    \"prompt_tokens\": 11,\n",
       "    \"total_tokens\": 50\n",
       "  }\n",
       "}"
      ]
     },
     "execution_count": 45,
     "metadata": {},
     "output_type": "execute_result"
    }
   ],
   "source": [
    "res"
   ]
  },
  {
   "cell_type": "markdown",
   "id": "58ce41ca",
   "metadata": {},
   "source": [
    "#### The Different Completion Medels\n",
    "- DALL-E : generates and edits images\n",
    "- Whisper : converts audio to text\n",
    "- Codex : understands and generates code\n",
    "- Moderation : detects safe and unsensitive text\n",
    "- GPT-3 : understands and generates natural language\n",
    "- GPT-3.5 : set of models of that improve upon GPT-3\n",
    "- GPT-4 : The latest and most advanced version of OpenAI's large language model\n",
    "\n",
    "https://platform.openai.com/docs/models"
   ]
  },
  {
   "cell_type": "markdown",
   "id": "c7dac995",
   "metadata": {},
   "source": [
    "#### Comparing Model Performance and Pricing\n",
    "\n",
    "(1k tokens)\n",
    "- text-davinci-003 : 0.02\n",
    "- text-curie-001 : 0.002\n",
    "- text-babbage-001 : 0.005\n",
    "- text-ada-001 : 0.0004\n",
    "- gpt-3.5-turbo : 0.002\n",
    "- GPT-4 Models : 0.06 ~ 0.12"
   ]
  },
  {
   "cell_type": "code",
   "execution_count": null,
   "id": "b4942f26",
   "metadata": {},
   "outputs": [],
   "source": [
    "openai.Completion.create(\n",
    "    model=\"text-davinci-003\",\n",
    "    prompt=\"I'm sad. Make me happy please. \",\n",
    "    max_tokens=100\n",
    ")"
   ]
  },
  {
   "cell_type": "code",
   "execution_count": null,
   "id": "e5c2f495",
   "metadata": {},
   "outputs": [],
   "source": [
    "openai.Completion.create(\n",
    "    model=\"text-curie-001\",\n",
    "    prompt=\"I'm sad. Make me happy please. \",\n",
    "    max_tokens=100\n",
    ")"
   ]
  },
  {
   "cell_type": "code",
   "execution_count": null,
   "id": "763772af",
   "metadata": {},
   "outputs": [],
   "source": [
    "openai.Completion.create(\n",
    "    model=\"text-babbage-001\",\n",
    "    prompt=\"I'm sad. Make me happy please. \",\n",
    "    max_tokens=100\n",
    ")"
   ]
  },
  {
   "cell_type": "code",
   "execution_count": null,
   "id": "c5ba5c34",
   "metadata": {},
   "outputs": [],
   "source": [
    "openai.Completion.create(\n",
    "    model=\"text-ada-001\",\n",
    "    prompt=\"I'm sad. Make me happy please. \",\n",
    "    max_tokens=100\n",
    ")"
   ]
  }
 ],
 "metadata": {
  "kernelspec": {
   "display_name": "Python 3 (ipykernel)",
   "language": "python",
   "name": "python3"
  },
  "language_info": {
   "codemirror_mode": {
    "name": "ipython",
    "version": 3
   },
   "file_extension": ".py",
   "mimetype": "text/x-python",
   "name": "python",
   "nbconvert_exporter": "python",
   "pygments_lexer": "ipython3",
   "version": "3.11.3"
  }
 },
 "nbformat": 4,
 "nbformat_minor": 5
}
