{
 "cells": [
  {
   "cell_type": "markdown",
   "id": "ce5717d1",
   "metadata": {},
   "source": [
    "## Prompt Design\n",
    "- Main Instructions - a task you want the model to perform\n",
    "- Data - any input data(if necessary)\n",
    "- Output Instructions - what type of output do you want? What format?\n",
    "\n",
    "Use a separetor to designate instructions and input\n",
    "인용문을 사용하면 명령어를 분리하기 위해 텍스트의 나머지 부분을 분리한다.\n",
    "```\n",
    "### Instruction ###\n",
    "Traslage the text below to French:\n",
    "\n",
    "Text: \"I am a huge idiot\"\n",
    "```\n",
    "\n",
    "Provider clear instructions\n",
    "```\n",
    "Complete the sentence:\n",
    "\n",
    "Humans are\n",
    "```"
   ]
  },
  {
   "cell_type": "markdown",
   "id": "40190c1a",
   "metadata": {},
   "source": [
    "### Controlling The Output Format\n",
    "\n",
    "Be specific about your desired output\n",
    "\n",
    "```\n",
    "Extract the place names in the following\n",
    "\n",
    "Disired format:\n",
    "Places: <comma_separated_list_of_places>\n",
    "\n",
    "Input: \"......\"\n",
    "```"
   ]
  },
  {
   "cell_type": "markdown",
   "id": "84ff19eb",
   "metadata": {},
   "source": [
    "### Summarization Prompts\n",
    "요약본 추출하기\n"
   ]
  },
  {
   "cell_type": "markdown",
   "id": "efecaee4",
   "metadata": {},
   "source": [
    "### Data Extraction Prompts\n",
    "text에서 데이터 추출"
   ]
  },
  {
   "cell_type": "markdown",
   "id": "76878489",
   "metadata": {},
   "source": [
    "### Sentiment Analysis Prompts\n",
    "감정 분석하기\n",
    "\n",
    "```\n",
    "classify the following text's sentiment as positive, neutral, or negative\n",
    "\n",
    "Desired Format: a number. -1 for negarive, 0 for neutral, and 1 for positive\n",
    "\n",
    "Input:\n",
    "...\n",
    "```"
   ]
  },
  {
   "cell_type": "markdown",
   "id": "806b6e99",
   "metadata": {},
   "source": [
    "### Zero-Shot Vs. Few-Shot\n",
    "\n",
    "zero-shot: 예제를 제공하지 않는 것\n",
    "few-shot: 모델이 프롬프트에서 배울 수 있는 예제를 제공하는 것\n",
    "\n"
   ]
  },
  {
   "cell_type": "markdown",
   "id": "0bbd2af5",
   "metadata": {},
   "source": [
    "### \"Let's Think Step By Step\"\n",
    "\n",
    "GPT는 논리적으로 잘못된 답을 줄 때가 있는데, 이런 때 사용하는 방법."
   ]
  },
  {
   "cell_type": "markdown",
   "id": "e60dcdaa",
   "metadata": {},
   "source": [
    "### Text Transformation Prompts\n",
    "번역하기\n",
    "\n",
    "```\n",
    "Traslate the following text to Spanish, French, and Japanse. The output should be a JSON object.\n",
    "\n",
    "Text: My favorite color is purple.\n",
    "```"
   ]
  }
 ],
 "metadata": {
  "kernelspec": {
   "display_name": "Python 3 (ipykernel)",
   "language": "python",
   "name": "python3"
  },
  "language_info": {
   "codemirror_mode": {
    "name": "ipython",
    "version": 3
   },
   "file_extension": ".py",
   "mimetype": "text/x-python",
   "name": "python",
   "nbconvert_exporter": "python",
   "pygments_lexer": "ipython3",
   "version": "3.11.3"
  }
 },
 "nbformat": 4,
 "nbformat_minor": 5
}
